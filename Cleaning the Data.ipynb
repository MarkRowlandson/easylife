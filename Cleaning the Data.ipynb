{
 "cells": [
  {
   "cell_type": "code",
   "execution_count": null,
   "id": "99479332",
   "metadata": {},
   "outputs": [],
   "source": [
    "print(\"Drop Duplicates\")\n",
    "print(dataset.drop_duplicates())\n",
    "print()\n",
    "\n",
    "print(\"Drop Nulls\")\n",
    "print(dataset.dropna())\n",
    "print()\n",
    "\n",
    "norm = preprocessing.normalize(df)\n",
    "data = pd.DataFrame(norm)\n",
    "print('Normalising the data')\n",
    "print(dataset)\n",
    "\n",
    "print('Shuffling Data')\n",
    "clean_dataset = shuffle(dataset)\n",
    "print(clean_dataset)"
   ]
  }
 ],
 "metadata": {
  "kernelspec": {
   "display_name": "Python 3 (ipykernel)",
   "language": "python",
   "name": "python3"
  },
  "language_info": {
   "codemirror_mode": {
    "name": "ipython",
    "version": 3
   },
   "file_extension": ".py",
   "mimetype": "text/x-python",
   "name": "python",
   "nbconvert_exporter": "python",
   "pygments_lexer": "ipython3",
   "version": "3.9.16"
  }
 },
 "nbformat": 4,
 "nbformat_minor": 5
}
