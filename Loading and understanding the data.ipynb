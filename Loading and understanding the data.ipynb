{
 "cells": [
  {
   "cell_type": "code",
   "execution_count": null,
   "id": "97147b37",
   "metadata": {},
   "outputs": [],
   "source": [
    "import pandas as pd"
   ]
  },
  {
   "cell_type": "code",
   "execution_count": null,
   "id": "5cc224c9",
   "metadata": {},
   "outputs": [],
   "source": [
    "dataset = pd.read_csv(r'filepath')"
   ]
  },
  {
   "cell_type": "code",
   "execution_count": null,
   "id": "2a6e73ca",
   "metadata": {},
   "outputs": [],
   "source": [
    "print(\"Top 5 Entries\")\n",
    "print(dataset.head())\n",
    "print()\n",
    "\n",
    "print(\"Bottom 5 Entries\")\n",
    "print(dataset.tail())\n",
    "print()\n",
    "\n",
    "print(\"Info\")\n",
    "print(dataset.info())\n",
    "print()\n",
    "\n",
    "print(\"Row Count\")\n",
    "print(dataset.shape[0])\n",
    "print()\n",
    "\n",
    "print(\"Dataset Stats\")\n",
    "print(dataset.describe())\n",
    "print()\n",
    "\n",
    "#Checking for duplicate values\n",
    "print('Duplicate Values')\n",
    "print(dataset.duplicated())\n",
    "print()\n"
   ]
  }
 ],
 "metadata": {
  "kernelspec": {
   "display_name": "Python 3 (ipykernel)",
   "language": "python",
   "name": "python3"
  },
  "language_info": {
   "codemirror_mode": {
    "name": "ipython",
    "version": 3
   },
   "file_extension": ".py",
   "mimetype": "text/x-python",
   "name": "python",
   "nbconvert_exporter": "python",
   "pygments_lexer": "ipython3",
   "version": "3.9.16"
  }
 },
 "nbformat": 4,
 "nbformat_minor": 5
}
